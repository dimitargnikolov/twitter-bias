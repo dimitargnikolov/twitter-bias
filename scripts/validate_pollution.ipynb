{
 "cells": [
  {
   "cell_type": "code",
   "execution_count": 4,
   "metadata": {},
   "outputs": [],
   "source": [
    "import os\n",
    "import csv\n",
    "import json\n",
    "import pprint"
   ]
  },
  {
   "cell_type": "code",
   "execution_count": 5,
   "metadata": {
    "scrolled": true
   },
   "outputs": [],
   "source": [
    "PROBLEM_LABELS = ['satire', 'political', 'reliable']\n",
    "PP = pprint.PrettyPrinter(indent=4)"
   ]
  },
  {
   "cell_type": "code",
   "execution_count": 6,
   "metadata": {},
   "outputs": [],
   "source": [
    "def read_misinfo_sources(filepath):\n",
    "    sources = {}\n",
    "    with open(filepath, 'r') as f:\n",
    "        r = csv.reader(f, delimiter='\\t')\n",
    "        next(r)\n",
    "        for row in r:\n",
    "            url = row[0].strip()\n",
    "            labels = list(filter(lambda l: l is not None and len(l.strip()) > 0, [l.strip() for l in row[1:]]))\n",
    "            sources[url] = labels\n",
    "    return sources"
   ]
  },
  {
   "cell_type": "code",
   "execution_count": 7,
   "metadata": {},
   "outputs": [],
   "source": [
    "def load_news_sources(filepath):\n",
    "    sources = set()\n",
    "    with open(filepath, 'r') as f:\n",
    "        r = csv.reader(f, delimiter='\\t')\n",
    "        next(r)\n",
    "        for row in r:\n",
    "            sources.add(row[0])\n",
    "    return sources"
   ]
  },
  {
   "cell_type": "code",
   "execution_count": 8,
   "metadata": {},
   "outputs": [],
   "source": [
    "def problem_sources(sources):\n",
    "    problem = {}\n",
    "    maybe_problem = {}\n",
    "    for url, labels in sources.items():\n",
    "        num_non_problem = sum([0 if label in PROBLEM_LABELS else 1 for label in labels])\n",
    "        num_problem = len(labels) - num_non_problem\n",
    "        if num_non_problem == 0:\n",
    "            problem[url] = labels\n",
    "        elif num_problem > 0:\n",
    "            maybe_problem[url] = labels\n",
    "    return problem, maybe_problem"
   ]
  },
  {
   "cell_type": "code",
   "execution_count": 9,
   "metadata": {},
   "outputs": [],
   "source": [
    "def load_shares(filepath):\n",
    "    with open(filepath, 'r') as f:\n",
    "        js_data = json.loads(f.read())\n",
    "    return js_data"
   ]
  },
  {
   "cell_type": "code",
   "execution_count": 10,
   "metadata": {},
   "outputs": [],
   "source": [
    "def count(tweets, misinfo, news):\n",
    "    domains = set()\n",
    "    shares_count = 0\n",
    "    user_counts = {}\n",
    "    tweet_counts = {}\n",
    "    for uid, utweets in tweets.items():\n",
    "        for t in utweets:\n",
    "            for d in t['domains']:\n",
    "                if d not in domains:\n",
    "                    domains.add(d)\n",
    "                shares_count += 1\n",
    "                if d in news:\n",
    "                    if 'news' not in tweet_counts:\n",
    "                        tweet_counts['news'] = 0\n",
    "                    tweet_counts['news'] += 1\n",
    "                    \n",
    "                    if 'news' not in user_counts:\n",
    "                        user_counts['news'] = set()\n",
    "                    user_counts['news'].add(uid)\n",
    "                    \n",
    "                elif d in misinfo:\n",
    "                    for label_raw in misinfo[d]:\n",
    "                        label = label_raw.lower()\n",
    "                        \n",
    "                        if label not in tweet_counts:\n",
    "                            tweet_counts[label] = 0\n",
    "                        tweet_counts[label] += 1\n",
    "                        \n",
    "                        if label not in user_counts:\n",
    "                            user_counts[label] = set()\n",
    "                        user_counts[label].add(uid)\n",
    "                else:\n",
    "                    if 'other' not in tweet_counts:\n",
    "                        tweet_counts['other'] = 0\n",
    "                    tweet_counts['other'] += 1\n",
    "                    \n",
    "                    if 'other' not in user_counts:\n",
    "                        user_counts['other'] = set()\n",
    "                    user_counts['other'].add(uid)\n",
    "        ucounts = {}\n",
    "        for label, s in user_counts.items():\n",
    "            ucounts[label] = len(s)\n",
    "    return len(domains), shares_count, ucounts, tweet_counts"
   ]
  },
  {
   "cell_type": "code",
   "execution_count": 11,
   "metadata": {},
   "outputs": [],
   "source": [
    "def filter_tweets(tweets, problem_domains):\n",
    "    new_tweets = {}\n",
    "    for uid, utweets in tweets.items():\n",
    "        new_utweets = []\n",
    "        for t in utweets:\n",
    "            add_tweet = True\n",
    "            for d in t['domains']:\n",
    "                if d in problem_domains:\n",
    "                    add_tweet = False\n",
    "                    break\n",
    "            if add_tweet:\n",
    "                new_utweets.append(t)\n",
    "        if len(new_utweets) > 0:\n",
    "            new_tweets[uid] = new_utweets\n",
    "    return new_tweets"
   ]
  },
  {
   "cell_type": "code",
   "execution_count": 12,
   "metadata": {},
   "outputs": [],
   "source": [
    "sources = read_misinfo_sources(os.path.join(os.getenv('D'), 'sources', 'pollution.tab'))"
   ]
  },
  {
   "cell_type": "code",
   "execution_count": 13,
   "metadata": {},
   "outputs": [],
   "source": [
    "problem, maybe_problem = problem_sources(sources)"
   ]
  },
  {
   "cell_type": "code",
   "execution_count": 14,
   "metadata": {},
   "outputs": [
    {
     "name": "stdout",
     "output_type": "stream",
     "text": [
      "sources: 824, problem: 138, maybe problem: 59\n"
     ]
    }
   ],
   "source": [
    "print('sources: {}, problem: {}, maybe problem: {}'.format(len(sources), len(problem), len(maybe_problem)))"
   ]
  },
  {
   "cell_type": "code",
   "execution_count": 15,
   "metadata": {},
   "outputs": [],
   "source": [
    "tweets = load_shares(os.path.join(os.getenv('D'), 'stripped-dataset-no-bots.json'))"
   ]
  },
  {
   "cell_type": "code",
   "execution_count": 16,
   "metadata": {},
   "outputs": [
    {
     "name": "stdout",
     "output_type": "stream",
     "text": [
      "Num users: 15057\n"
     ]
    }
   ],
   "source": [
    "print('Num users: {}'.format(len(tweets)))"
   ]
  },
  {
   "cell_type": "code",
   "execution_count": 17,
   "metadata": {},
   "outputs": [
    {
     "name": "stdout",
     "output_type": "stream",
     "text": [
      "Num tweets: 1413426\n"
     ]
    }
   ],
   "source": [
    "num_tweets = sum([len(vals) for vals in tweets.values()])\n",
    "print('Num tweets: {}'.format(num_tweets))"
   ]
  },
  {
   "cell_type": "code",
   "execution_count": 18,
   "metadata": {},
   "outputs": [],
   "source": [
    "news_sources = load_news_sources(os.path.join(os.getenv('D'), 'sources', 'news.tab'))"
   ]
  },
  {
   "cell_type": "code",
   "execution_count": 19,
   "metadata": {},
   "outputs": [],
   "source": [
    "domains_count, shares_count, ucount, tcounts = count(tweets, sources, news_sources)"
   ]
  },
  {
   "cell_type": "code",
   "execution_count": 20,
   "metadata": {},
   "outputs": [
    {
     "name": "stdout",
     "output_type": "stream",
     "text": [
      "Domains: 47442, Shares: 1473250\n",
      "{   'bias': 55064,\n",
      "    'clickbait': 11590,\n",
      "    'conspiracy': 24964,\n",
      "    'fake': 8027,\n",
      "    'hate': 20101,\n",
      "    'junksci': 427,\n",
      "    'news': 469966,\n",
      "    'other': 924744,\n",
      "    'political': 15253,\n",
      "    'reliable': 2202,\n",
      "    'rumor': 3885,\n",
      "    'satire': 904,\n",
      "    'state': 1423,\n",
      "    'unreliable': 12547}\n"
     ]
    }
   ],
   "source": [
    "print('Domains: {}, Shares: {}'.format(domains_count, shares_count))\n",
    "PP.pprint(tcounts)"
   ]
  },
  {
   "cell_type": "code",
   "execution_count": 21,
   "metadata": {},
   "outputs": [],
   "source": [
    "filtered_tweets = filter_tweets(tweets, problem.keys())"
   ]
  },
  {
   "cell_type": "code",
   "execution_count": 22,
   "metadata": {},
   "outputs": [
    {
     "name": "stdout",
     "output_type": "stream",
     "text": [
      "Num users: 15057\n"
     ]
    }
   ],
   "source": [
    "print('Num users: {}'.format(len(filtered_tweets)))"
   ]
  },
  {
   "cell_type": "code",
   "execution_count": 23,
   "metadata": {},
   "outputs": [
    {
     "name": "stdout",
     "output_type": "stream",
     "text": [
      "Num filtered tweets: 1398552, difference: 14874, difference percentage: 0.010523366628320124\n"
     ]
    }
   ],
   "source": [
    "num_filtered_tweets = sum([len(vals) for vals in filtered_tweets.values()])\n",
    "print('Num filtered tweets: {}, difference: {}, difference percentage: {}'.format(num_filtered_tweets, num_tweets-num_filtered_tweets, (num_tweets-num_filtered_tweets)/num_tweets))"
   ]
  },
  {
   "cell_type": "code",
   "execution_count": 24,
   "metadata": {},
   "outputs": [],
   "source": [
    "retweets = 0"
   ]
  },
  {
   "cell_type": "code",
   "execution_count": 25,
   "metadata": {},
   "outputs": [],
   "source": [
    "filtered_domains_count, filtered_shares_count, filtered_ucount, filtered_tcounts = count(filtered_tweets, sources, news_sources)"
   ]
  },
  {
   "cell_type": "code",
   "execution_count": 26,
   "metadata": {},
   "outputs": [
    {
     "name": "stdout",
     "output_type": "stream",
     "text": [
      "Domains: 47364, Shares: 1457663\n",
      "{   'bias': 55064,\n",
      "    'clickbait': 11589,\n",
      "    'conspiracy': 24964,\n",
      "    'fake': 8027,\n",
      "    'hate': 20101,\n",
      "    'junksci': 427,\n",
      "    'news': 463409,\n",
      "    'other': 924063,\n",
      "    'political': 7769,\n",
      "    'rumor': 3885,\n",
      "    'satire': 240,\n",
      "    'state': 1423,\n",
      "    'unreliable': 12546}\n"
     ]
    }
   ],
   "source": [
    "print('Domains: {}, Shares: {}'.format(filtered_domains_count, filtered_shares_count))\n",
    "PP.pprint(filtered_tcounts)"
   ]
  },
  {
   "cell_type": "code",
   "execution_count": 27,
   "metadata": {},
   "outputs": [
    {
     "name": "stdout",
     "output_type": "stream",
     "text": [
      "{   'bias': 9833,\n",
      "    'clickbait': 4489,\n",
      "    'conspiracy': 4801,\n",
      "    'fake': 3133,\n",
      "    'hate': 4127,\n",
      "    'junksci': 237,\n",
      "    'news': 15054,\n",
      "    'other': 15014,\n",
      "    'political': 3561,\n",
      "    'rumor': 1364,\n",
      "    'satire': 156,\n",
      "    'state': 698,\n",
      "    'unreliable': 5244}\n"
     ]
    }
   ],
   "source": [
    "PP.pprint(filtered_ucount)"
   ]
  },
  {
   "cell_type": "code",
   "execution_count": 129,
   "metadata": {},
   "outputs": [],
   "source": [
    "with open(os.path.join(os.getenv('D'), 'stripped-tweets-no-bots-filtered.json'), 'w') as f:\n",
    "    f.write(json.dumps(filtered_tweets))"
   ]
  },
  {
   "cell_type": "code",
   "execution_count": 134,
   "metadata": {},
   "outputs": [
    {
     "data": {
      "text/plain": [
       "138026"
      ]
     },
     "execution_count": 134,
     "metadata": {},
     "output_type": "execute_result"
    }
   ],
   "source": [
    "55064+11589+24964+8027+20101+427+3885+1423+12546\n"
   ]
  },
  {
   "cell_type": "code",
   "execution_count": null,
   "metadata": {},
   "outputs": [],
   "source": []
  }
 ],
 "metadata": {
  "kernelspec": {
   "display_name": "Python 3",
   "language": "python",
   "name": "python3"
  },
  "language_info": {
   "codemirror_mode": {
    "name": "ipython",
    "version": 3
   },
   "file_extension": ".py",
   "mimetype": "text/x-python",
   "name": "python",
   "nbconvert_exporter": "python",
   "pygments_lexer": "ipython3",
   "version": "3.6.4"
  }
 },
 "nbformat": 4,
 "nbformat_minor": 2
}
