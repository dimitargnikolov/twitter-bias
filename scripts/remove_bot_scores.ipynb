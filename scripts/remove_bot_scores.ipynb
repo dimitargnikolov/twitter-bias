{
 "cells": [
  {
   "cell_type": "code",
   "execution_count": 1,
   "metadata": {},
   "outputs": [],
   "source": [
    "import os\n",
    "import csv\n",
    "import glob\n",
    "import json"
   ]
  },
  {
   "cell_type": "code",
   "execution_count": 2,
   "metadata": {},
   "outputs": [],
   "source": [
    "def load_stripped_dataset(data_dir):\n",
    "    users = {}\n",
    "    for filepath in glob.glob(os.path.join(data_dir, '*.json')):\n",
    "        with open(filepath, 'r') as f:\n",
    "            d = json.loads(f.read())\n",
    "            for raw_uid in d:\n",
    "                uid = int(raw_uid)\n",
    "                assert uid not in users\n",
    "                users[uid] = d[raw_uid]\n",
    "    return users"
   ]
  },
  {
   "cell_type": "code",
   "execution_count": 3,
   "metadata": {},
   "outputs": [],
   "source": [
    "def load_bot_scores(filepath):\n",
    "    scores = {}\n",
    "    with open(filepath, 'r') as f:\n",
    "        r = csv.reader(f, delimiter=',')\n",
    "        next(r)\n",
    "        for row in r:\n",
    "            uid = int(row[0])\n",
    "            score = float(row[3])\n",
    "            assert uid not in scores\n",
    "            scores[uid] = score\n",
    "    return scores"
   ]
  },
  {
   "cell_type": "code",
   "execution_count": 4,
   "metadata": {},
   "outputs": [],
   "source": [
    "users = load_stripped_dataset(os.path.join(os.getenv('D'), 'stripped-dataset'))\n",
    "bot_scores = load_bot_scores(os.path.join(os.getenv('D'), 'bot-scores.csv'))"
   ]
  },
  {
   "cell_type": "code",
   "execution_count": 5,
   "metadata": {},
   "outputs": [
    {
     "name": "stdout",
     "output_type": "stream",
     "text": [
      "15220\n",
      "15057\n"
     ]
    }
   ],
   "source": [
    "new_users = {}\n",
    "for uid in users:\n",
    "    if uid in bot_scores and bot_scores[uid] < 0.8:\n",
    "        new_users[uid] = users[uid]\n",
    "print(len(users))\n",
    "print(len(new_users))"
   ]
  },
  {
   "cell_type": "code",
   "execution_count": 6,
   "metadata": {},
   "outputs": [],
   "source": [
    "with open(os.path.join(os.getenv('D'), 'stripped-dataset-no-bots.json'), 'w') as f:\n",
    "    f.write(json.dumps(new_users))"
   ]
  },
  {
   "cell_type": "code",
   "execution_count": null,
   "metadata": {},
   "outputs": [],
   "source": []
  }
 ],
 "metadata": {
  "kernelspec": {
   "display_name": "Python 3",
   "language": "python",
   "name": "python3"
  },
  "language_info": {
   "codemirror_mode": {
    "name": "ipython",
    "version": 3
   },
   "file_extension": ".py",
   "mimetype": "text/x-python",
   "name": "python",
   "nbconvert_exporter": "python",
   "pygments_lexer": "ipython3",
   "version": "3.6.4"
  }
 },
 "nbformat": 4,
 "nbformat_minor": 2
}
