{
 "cells": [
  {
   "cell_type": "code",
   "execution_count": 1,
   "metadata": {
    "scrolled": true
   },
   "outputs": [],
   "source": [
    "%load_ext autoreload"
   ]
  },
  {
   "cell_type": "code",
   "execution_count": 2,
   "metadata": {},
   "outputs": [],
   "source": [
    "%autoreload 2"
   ]
  },
  {
   "cell_type": "code",
   "execution_count": 3,
   "metadata": {},
   "outputs": [],
   "source": [
    "import os\n",
    "import csv\n",
    "import json\n",
    "import logging\n",
    "from common_utils import readcol, gentweets, write_csv, filter_dataset\n",
    "from urls import domain"
   ]
  },
  {
   "cell_type": "code",
   "execution_count": 4,
   "metadata": {},
   "outputs": [],
   "source": [
    "logging.basicConfig(level=logging.DEBUG)"
   ]
  },
  {
   "cell_type": "code",
   "execution_count": 5,
   "metadata": {},
   "outputs": [],
   "source": [
    "def compute_pollution(data, misinfo_sites, min_num_tweets):\n",
    "    total_counts = {}\n",
    "    misinfo_counts = {}\n",
    "    for uid in data:\n",
    "        assert uid not in total_counts\n",
    "        assert uid not in misinfo_counts\n",
    "    \n",
    "        total_counts[uid] = 0\n",
    "        misinfo_counts[uid] = 0\n",
    "        \n",
    "        for tweet in data[uid]:\n",
    "            for raw_d in tweet['domains']:\n",
    "                total_counts[uid] += 1\n",
    "                d = domain(raw_d)\n",
    "                if d in misinfo_sites:\n",
    "                    misinfo_counts[uid] += 1\n",
    "\n",
    "    scores = {}\n",
    "    for uid in misinfo_counts:\n",
    "        if total_counts[uid] < min_num_tweets:\n",
    "            logging.info('User {} does not have the required minimum number of tweets ({}/{}). Skipping.'.format(\n",
    "                uid, total_counts[uid], min_num_tweets\n",
    "            ))\n",
    "            continue\n",
    "        else:\n",
    "            scores[uid] = misinfo_counts[uid] / total_counts[uid]\n",
    "    return scores"
   ]
  },
  {
   "cell_type": "code",
   "execution_count": 7,
   "metadata": {},
   "outputs": [
    {
     "name": "stdout",
     "output_type": "stream",
     "text": [
      "Skipped counts: {'retweet': 0, 'standalone': 0, 'quote': 0}\n"
     ]
    },
    {
     "name": "stderr",
     "output_type": "stream",
     "text": [
      "INFO:root:User 628801184 does not have the required minimum number of tweets (6/8). Skipping.\n",
      "INFO:root:User 34320674 does not have the required minimum number of tweets (4/8). Skipping.\n",
      "INFO:root:User 18851248 does not have the required minimum number of tweets (1/8). Skipping.\n"
     ]
    }
   ],
   "source": [
    "min_num_tweets = 8\n",
    "keep_retweets = True\n",
    "subf = 'with-retweets' if keep_retweets else 'without-retweets'\n",
    "dest = os.path.join(os.getenv('D'), 'measures', subf, 'pollution-filtered.tab')\n",
    "\n",
    "with open(os.path.join(os.getenv('D'), 'stripped-dataset-no-bots-filtered.json'), 'r') as f:\n",
    "    js_data = json.loads(f.read())\n",
    "data = filter_dataset(js_data, keep_standalone=True, keep_retweet=keep_retweets, keep_quote=True)\n",
    "misinfo_sites = frozenset(readcol(os.path.join(os.getenv('D'), 'sources', 'pollution.tab'), skip_rows=1))\n",
    "\n",
    "scores = compute_pollution(data, misinfo_sites, min_num_tweets)\n",
    "\n",
    "if not os.path.exists(os.path.dirname(dest)):\n",
    "    os.makedirs(os.path.dirname(dest))\n",
    "write_csv(dest, [(uid, score) for uid, score in scores.items()], ['Twitter ID', 'Pollution'])"
   ]
  },
  {
   "cell_type": "code",
   "execution_count": null,
   "metadata": {},
   "outputs": [],
   "source": []
  }
 ],
 "metadata": {
  "kernelspec": {
   "display_name": "Python 3",
   "language": "python",
   "name": "python3"
  },
  "language_info": {
   "codemirror_mode": {
    "name": "ipython",
    "version": 3
   },
   "file_extension": ".py",
   "mimetype": "text/x-python",
   "name": "python",
   "nbconvert_exporter": "python",
   "pygments_lexer": "ipython3",
   "version": "3.6.4"
  }
 },
 "nbformat": 4,
 "nbformat_minor": 2
}
