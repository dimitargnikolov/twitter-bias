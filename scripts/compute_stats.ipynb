{
 "cells": [
  {
   "cell_type": "code",
   "execution_count": 1,
   "metadata": {},
   "outputs": [],
   "source": [
    "import os\n",
    "import csv\n",
    "import json\n",
    "from operator import itemgetter\n",
    "from IPython.display import display, Markdown, Latex"
   ]
  },
  {
   "cell_type": "code",
   "execution_count": 2,
   "metadata": {},
   "outputs": [],
   "source": [
    "DATASET_FILE = os.path.join(os.getenv('D'), 'stripped-dataset-no-bots.json')\n",
    "NEWS_SOURCES_FILE = os.path.join(os.getenv('D'), 'sources', 'news.tab')\n",
    "POLLUTION_FILE = os.path.join(os.getenv('D'), 'sources', 'pollution.tab')"
   ]
  },
  {
   "cell_type": "code",
   "execution_count": 3,
   "metadata": {},
   "outputs": [],
   "source": [
    "def load_dataset(filepath):\n",
    "    with open(filepath, 'r') as f:\n",
    "        return {int(uid): shares for uid, shares in json.loads(f.read()).items()}\n",
    "    \n",
    "def load_news_sources(filepath):\n",
    "    sources = {}\n",
    "    with open(filepath, 'r') as f:\n",
    "        r = csv.reader(f, delimiter='\\t')\n",
    "        next(r)\n",
    "        for row in r:\n",
    "            assert row[0] not in sources\n",
    "            sources[row[0]] = float(row[1])\n",
    "    return sources\n",
    "\n",
    "def load_pollution_sources(filepath):\n",
    "    sources = {}\n",
    "    with open(filepath, 'r') as f:\n",
    "        r = csv.reader(f, delimiter='\\t')\n",
    "        next(r)\n",
    "        for row in r:\n",
    "            assert row[0] not in sources\n",
    "            cats = [cat.lower() for cat in row[1:] if cat is not None and cat != '']\n",
    "            if len(cats) == 0:\n",
    "                print('Problem: {}'.format(row))\n",
    "            sources[row[0]] = cats\n",
    "    return sources\n",
    "\n",
    "def compute_pollution_cat_counts(pollution, primary_only=False):\n",
    "    counts = {}\n",
    "    for url, all_cats in pollution.items():\n",
    "        if primary_only:\n",
    "            cats = [all_cats[0]]\n",
    "        else:\n",
    "            cats = all_cats\n",
    "            \n",
    "        for cat in cats:\n",
    "            if cat not in counts:\n",
    "                counts[cat] = 0\n",
    "            counts[cat] += 1\n",
    "    return counts\n",
    "\n",
    "def compute_partisanship(data):\n",
    "    for uid in data:\n",
    "        pass"
   ]
  },
  {
   "cell_type": "code",
   "execution_count": 4,
   "metadata": {},
   "outputs": [
    {
     "data": {
      "text/markdown": [
       "## Number of users: 15057"
      ],
      "text/plain": [
       "<IPython.core.display.Markdown object>"
      ]
     },
     "metadata": {},
     "output_type": "display_data"
    },
    {
     "data": {
      "text/markdown": [
       "## Number of unique domains: 47442"
      ],
      "text/plain": [
       "<IPython.core.display.Markdown object>"
      ]
     },
     "metadata": {},
     "output_type": "display_data"
    },
    {
     "data": {
      "text/markdown": [
       "## Number of total shares: 1473250"
      ],
      "text/plain": [
       "<IPython.core.display.Markdown object>"
      ]
     },
     "metadata": {},
     "output_type": "display_data"
    }
   ],
   "source": [
    "data = load_dataset(DATASET_FILE)\n",
    "display(Markdown('## Number of users: {}'.format(len(data))))\n",
    "\n",
    "domains = {}\n",
    "for uid, tweets in data.items():\n",
    "    for tweet in tweets:\n",
    "        for d in tweet['domains']:\n",
    "            if d not in domains:\n",
    "                domains[d] = 0\n",
    "            domains[d] += 1\n",
    "display(Markdown('## Number of unique domains: {}'.format(len(domains))))\n",
    "display(Markdown('## Number of total shares: {}'.format(sum(domains.values()))))"
   ]
  },
  {
   "cell_type": "code",
   "execution_count": 5,
   "metadata": {},
   "outputs": [
    {
     "data": {
      "text/markdown": [
       "## Number of news sources: 488"
      ],
      "text/plain": [
       "<IPython.core.display.Markdown object>"
      ]
     },
     "metadata": {},
     "output_type": "display_data"
    },
    {
     "data": {
      "text/markdown": [
       "## Number of news sources in data: 418"
      ],
      "text/plain": [
       "<IPython.core.display.Markdown object>"
      ]
     },
     "metadata": {},
     "output_type": "display_data"
    },
    {
     "data": {
      "text/markdown": [
       "## Number of news shares in data: 469966 (0.32 of all)"
      ],
      "text/plain": [
       "<IPython.core.display.Markdown object>"
      ]
     },
     "metadata": {},
     "output_type": "display_data"
    }
   ],
   "source": [
    "news_sources = load_news_sources(NEWS_SOURCES_FILE)\n",
    "display(Markdown('## Number of news sources: {}'.format(len(news_sources))))\n",
    "\n",
    "news_domains = {k: v for k, v in domains.items() if k in news_sources}\n",
    "display(Markdown('## Number of news sources in data: {}'.format(len(news_domains))))\n",
    "display(Markdown('## Number of news shares in data: {} ({:.2f} of all)'.format(\n",
    "    sum(news_domains.values()), \n",
    "    sum(news_domains.values()) / sum(domains.values())\n",
    ")))"
   ]
  },
  {
   "cell_type": "code",
   "execution_count": 6,
   "metadata": {},
   "outputs": [
    {
     "data": {
      "text/markdown": [
       "## Number of pollution sources: 824"
      ],
      "text/plain": [
       "<IPython.core.display.Markdown object>"
      ]
     },
     "metadata": {},
     "output_type": "display_data"
    },
    {
     "data": {
      "text/markdown": [
       "## Number of pollution sources in data: 437"
      ],
      "text/plain": [
       "<IPython.core.display.Markdown object>"
      ]
     },
     "metadata": {},
     "output_type": "display_data"
    },
    {
     "data": {
      "text/markdown": [
       "## Number of pollution shares in data: 252948 (0.17 of all)"
      ],
      "text/plain": [
       "<IPython.core.display.Markdown object>"
      ]
     },
     "metadata": {},
     "output_type": "display_data"
    }
   ],
   "source": [
    "pollution_sources = load_pollution_sources(POLLUTION_FILE)\n",
    "display(Markdown('## Number of pollution sources: {}'.format(len(pollution_sources))))\n",
    "\n",
    "pollution_domains = {k: v for k, v in domains.items() if k in pollution_sources}\n",
    "display(Markdown('## Number of pollution sources in data: {}'.format(len(pollution_domains))))\n",
    "display(Markdown('## Number of pollution shares in data: {} ({:.2f} of all)'.format(\n",
    "    sum(pollution_domains.values()),\n",
    "    sum(pollution_domains.values()) / sum(domains.values())\n",
    ")))\n"
   ]
  },
  {
   "cell_type": "code",
   "execution_count": 7,
   "metadata": {},
   "outputs": [
    {
     "data": {
      "text/markdown": [
       "## Combined sources: 1202, Only news: 378, only pollution: 714, overlap: 110"
      ],
      "text/plain": [
       "<IPython.core.display.Markdown object>"
      ]
     },
     "metadata": {},
     "output_type": "display_data"
    },
    {
     "data": {
      "text/markdown": [
       "## News and pollution domains in data: 757"
      ],
      "text/plain": [
       "<IPython.core.display.Markdown object>"
      ]
     },
     "metadata": {},
     "output_type": "display_data"
    }
   ],
   "source": [
    "all_sources = set()\n",
    "all_sources.update(set(news_sources.keys()))\n",
    "all_sources.update(pollution_sources.keys())\n",
    "overlap = set(news_sources.keys()) & set(pollution_sources.keys())\n",
    "display(Markdown('## Combined sources: {}, Only news: {}, only pollution: {}, overlap: {}'.format(\n",
    "    len(all_sources),\n",
    "    len(set(news_sources.keys()) - overlap),\n",
    "    len(set(pollution_sources.keys()) - overlap),\n",
    "    len(overlap)\n",
    ")))\n",
    "\n",
    "all_domains = {}\n",
    "all_domains.update(news_domains)\n",
    "all_domains.update(pollution_domains)\n",
    "display(Markdown('## News and pollution domains in data: {}'.format((len(all_domains)))))"
   ]
  },
  {
   "cell_type": "code",
   "execution_count": 8,
   "metadata": {},
   "outputs": [
    {
     "data": {
      "text/markdown": [
       "fake<br />bias<br />conspiracy<br />satire<br />unreliable<br />clickbait<br />political<br />junksci<br />hate<br /> <br />rumor<br />reliable<br />fake news<br />state<br />2.62e-05<br />blog<br />satirical<br />8.55e-05<br />rumor <br /> unreliable<br />5.16e-05<br />3.64e-05<br />3.11e-05<br />unrealiable<br />fake "
      ],
      "text/plain": [
       "<IPython.core.display.Markdown object>"
      ]
     },
     "metadata": {},
     "output_type": "display_data"
    }
   ],
   "source": [
    "pollution_cat_counts = compute_pollution_cat_counts(pollution_sources)\n",
    "display(Markdown('<br />'.join([row[0] for row in sorted(pollution_cat_counts.items(), key=itemgetter(1), reverse=True)])))"
   ]
  },
  {
   "cell_type": "code",
   "execution_count": null,
   "metadata": {},
   "outputs": [],
   "source": []
  }
 ],
 "metadata": {
  "kernelspec": {
   "display_name": "Python 3",
   "language": "python",
   "name": "python3"
  },
  "language_info": {
   "codemirror_mode": {
    "name": "ipython",
    "version": 3
   },
   "file_extension": ".py",
   "mimetype": "text/x-python",
   "name": "python",
   "nbconvert_exporter": "python",
   "pygments_lexer": "ipython3",
   "version": "3.6.4"
  }
 },
 "nbformat": 4,
 "nbformat_minor": 2
}
